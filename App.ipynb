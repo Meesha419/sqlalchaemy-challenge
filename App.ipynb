{
 "cells": [
  {
   "cell_type": "code",
   "execution_count": null,
   "id": "6c810b52",
   "metadata": {},
   "outputs": [],
   "source": [
    "import numpy as np\n",
    "import datetime as dt\n",
    "import pandas as pd\n",
    "\n",
    "\n",
    "import sqlalchemy\n",
    "from sqlalchemy.ext.automap import automap_base\n",
    "from sqlalchemy.orm import Session\n",
    "from sqlalchemy import create_engine\n",
    "from sqlalchemy import func\n",
    "\n",
    "from flask import Flask\n",
    "from flask import jsonify"
   ]
  },
  {
   "cell_type": "code",
   "execution_count": null,
   "id": "55b12fc7",
   "metadata": {},
   "outputs": [],
   "source": [
    "# database set up\n",
    "engine = create_engine(\"sqlite:///Resources/hawaii.sqlite\")"
   ]
  },
  {
   "cell_type": "code",
   "execution_count": null,
   "id": "abd183fa",
   "metadata": {},
   "outputs": [],
   "source": [
    "# Exisiting DB into a new\n",
    "Base = automap_base()"
   ]
  },
  {
   "cell_type": "code",
   "execution_count": null,
   "id": "136e4f79",
   "metadata": {},
   "outputs": [],
   "source": [
    "#tables\n",
    "Base.prepare(engine, reflect=True)"
   ]
  },
  {
   "cell_type": "code",
   "execution_count": null,
   "id": "0c0bd2a1",
   "metadata": {},
   "outputs": [],
   "source": [
    "Measurement = Base.classes.measurement\n",
    "Station = Base.classes.station"
   ]
  },
  {
   "cell_type": "code",
   "execution_count": null,
   "id": "81935ea2",
   "metadata": {},
   "outputs": [],
   "source": [
    "# Flask set up\n",
    "app = Flask(__name__)"
   ]
  },
  {
   "cell_type": "code",
   "execution_count": null,
   "id": "04eaf436",
   "metadata": {},
   "outputs": [],
   "source": [
    "# order in Dictionery \n",
    "app.config['JSON_SORT_KEYS'] = False\n"
   ]
  },
  {
   "cell_type": "code",
   "execution_count": null,
   "id": "7bf0318d",
   "metadata": {},
   "outputs": [],
   "source": [
    "# Flask route\n",
    "@app.route(\"/\")\n",
    "def welcome():\n",
    "    \"\"\"List all available api routes.\"\"\"\n",
    "    return (\n",
    "        f\"<b>Welcome to Honolulu Climate API!</b><br/>\"\n",
    "        f\"{'*'*30}<br/>\"\n",
    "        f\"<b>Available Routes:</b><br/>\"\n",
    "        f\"/api/v1.0/precipitation<br/>\"\n",
    "        f\"/api/v1.0/stations<br/>\"\n",
    "        f\"/api/v1.0/tobs<br/>\"\n",
    "        f\"/api/v1.0/start=YYYY-MM-DD<br/>\"\n",
    "        f\"/api/v1.0/start=YYYY-MM-DD/end=YYYY-MM-DD<br/>\"\n",
    "        f\"{'-'*80}<br/>\"\n",
    "        f\"<b>Note:</b><br/>\"\n",
    "        f\"* Route <b>tobs</b> will show only the result of the most active station.<br/>\"\n",
    "        f\"* The <b>date format</b> will be YYYY-MM-DD, i.e. 2016-08-23.\"\n",
    "    )\n"
   ]
  },
  {
   "cell_type": "code",
   "execution_count": null,
   "id": "365a9eb3",
   "metadata": {},
   "outputs": [],
   "source": [
    "# Percipitation route\n",
    "@app.route(\"/api/v1.0/precipitation\")\n",
    "def precipitation():\n",
    "  "
   ]
  },
  {
   "cell_type": "code",
   "execution_count": null,
   "id": "4d278c70",
   "metadata": {},
   "outputs": [],
   "source": [
    "session = Session(engine) "
   ]
  },
  {
   "cell_type": "code",
   "execution_count": null,
   "id": "668ab06a",
   "metadata": {},
   "outputs": [],
   "source": [
    "# Query precipitation data\n",
    "results = session.query(Measurement.date, Measurement.prcp).all()"
   ]
  },
  {
   "cell_type": "code",
   "execution_count": null,
   "id": "8c449f37",
   "metadata": {},
   "outputs": [],
   "source": [
    "session.close()"
   ]
  },
  {
   "cell_type": "code",
   "execution_count": null,
   "id": "32d65674",
   "metadata": {},
   "outputs": [],
   "source": [
    "# Create Dictionery\n",
    "all_prcp = []\n",
    "for date, prcp in results:\n",
    "        prcp_dict = {}\n",
    "        prcp_dict['Date'] = date\n",
    "        prcp_dict['Precipitation'] = prcp\n",
    "        all_prcp.append(prcp_dict)\n",
    "return jsonify(all_prcp)"
   ]
  },
  {
   "cell_type": "code",
   "execution_count": null,
   "id": "3ce8ac13",
   "metadata": {},
   "outputs": [],
   "source": [
    "# Stations route\n",
    "@ app.route(\"/api/v1.0/stations\")\n",
    "def stations():\n",
    "    session = Session(engine)\n"
   ]
  },
  {
   "cell_type": "code",
   "execution_count": null,
   "id": "bff12fef",
   "metadata": {},
   "outputs": [],
   "source": [
    "# Query all stations\n",
    "results = session.query(Measurement.station,\n",
    "                            Station.name,\n",
    "                            Station.latitude,\n",
    "                            Station.longitude,\n",
    "                            Station.elevation,\n",
    "                            func.min(Measurement.prcp),\n",
    "                            func.max(Measurement.prcp),\n",
    "                            func.avg(Measurement.prcp),\n",
    "                            func.min(Measurement.tobs),\n",
    "                            func.max(Measurement.tobs),\n",
    "                            func.avg(Measurement.tobs))\\\n",
    "        .filter(Measurement.station == Station.station)\\\n",
    "        .group_by(Measurement.station).all()\n"
   ]
  },
  {
   "cell_type": "code",
   "execution_count": null,
   "id": "a74a50e4",
   "metadata": {},
   "outputs": [],
   "source": [
    "session.close()"
   ]
  },
  {
   "cell_type": "code",
   "execution_count": null,
   "id": "67bc116a",
   "metadata": {},
   "outputs": [],
   "source": [
    "# Dictionery\n",
    "\n",
    "all_stn = []\n",
    " for stn_id, stn_name, stn_lat, stn_lng, stn_elv, stn_pmin, stn_pmax, stn_pavg, stn_tmin, stn_tmax, stn_tavg in results:\n",
    "        stn_dict = {}\n",
    "        stn_dict['Station ID'] = stn_id\n",
    "        stn_dict['Station Name'] = stn_name\n",
    "        stn_dict['Location'] = {'Latitude': stn_lat, 'Longitude': stn_lng}\n",
    "        stn_dict['Elevation'] = stn_elv\n",
    "        stn_dict['Meteorology'] = {\n",
    "            'Temperature': {\n",
    "                'Min': stn_tmin,\n",
    "                'Max': stn_tmax,\n",
    "                'Avg': round(stn_tavg, 2)\n",
    "            },\n",
    "            'Precipitation': {\n",
    "                'Min': stn_pmin,\n",
    "                'Max': stn_pmax,\n",
    "                'Avg': round(stn_pavg, 2)\n",
    "            }\n",
    "        }\n",
    "\n",
    "        all_stn.append(stn_dict)\n",
    "\n",
    "    return jsonify(all_stn)\n",
    "\n",
    "\n"
   ]
  },
  {
   "cell_type": "code",
   "execution_count": null,
   "id": "d3635f44",
   "metadata": {},
   "outputs": [],
   "source": [
    "# TOBS route\n",
    "@ app.route(\"/api/v1.0/tobs\")\n",
    "def tobs():\n",
    "    session = Session(engine)\n"
   ]
  },
  {
   "cell_type": "code",
   "execution_count": null,
   "id": "b11065b1",
   "metadata": {},
   "outputs": [],
   "source": [
    "# Final Data Point\n",
    "last_date_query = session.query(Measurement.date).order_by(\n",
    "        Measurement.date.desc()).first()\n",
    "last_date_str = last_date_query[0]\n",
    "last_date = dt.datetime.strptime(last_date_str, '%Y-%m-%d').date()\n",
    "\n",
    "# 1 year ago\n",
    "yr_ago_date = last_date - dt.timedelta(days=365)\n",
    "yr_ago_date_str = yr_ago_date.strftime('%Y-%m-%d')\n",
    "\n",
    "# Get the most active station\n",
    "most_active = session.query(Measurement.station, Station.name, func.count(Measurement.station))\\\n",
    "        .group_by(Measurement.station)\\\n",
    "        .order_by(func.count(Measurement.station).desc())\\\n",
    "        .first()\n",
    "\n"
   ]
  },
  {
   "cell_type": "code",
   "execution_count": null,
   "id": "359e013e",
   "metadata": {},
   "outputs": [],
   "source": [
    "# Most active Station in the past year\n",
    "results = session.query(Measurement.date, Measurement.tobs)\\\n",
    "        .filter(Measurement.date <= last_date_str)\\\n",
    "        .filter(Measurement.date >= yr_ago_date_str)\\\n",
    "        .filter(Measurement.station == most_active[0])\\\n",
    "        .all()\n"
   ]
  },
  {
   "cell_type": "code",
   "execution_count": null,
   "id": "422ecbcf",
   "metadata": {},
   "outputs": [],
   "source": [
    "session.close()"
   ]
  },
  {
   "cell_type": "code",
   "execution_count": null,
   "id": "85254c5b",
   "metadata": {},
   "outputs": [],
   "source": [
    "# Dictionary - most active station\n",
    "act_stn = []\n",
    " for act_date, act_tobs in results:\n",
    "        act_stn_dict = {\n",
    "            'Station ID': most_active[0],\n",
    "            'Station Name': most_active[1]\n",
    "        }\n",
    "        act_stn_dict['Date'] = act_date\n",
    "        act_stn_dict['TOBS'] = act_tobs\n",
    "        act_stn.append(act_stn_dict)\n",
    "\n",
    "    return jsonify(act_stn)\n"
   ]
  },
  {
   "cell_type": "code",
   "execution_count": null,
   "id": "9f73e3e5",
   "metadata": {},
   "outputs": [],
   "source": [
    "# Start date route\n",
    "@app.route(\"/api/v1.0/start=<start>\")\n",
    "def start_date(start):\n"
   ]
  },
  {
   "cell_type": "code",
   "execution_count": null,
   "id": "c202dcb3",
   "metadata": {},
   "outputs": [],
   "source": [
    "session = Session(engine)"
   ]
  },
  {
   "cell_type": "code",
   "execution_count": null,
   "id": "8d18e954",
   "metadata": {},
   "outputs": [],
   "source": [
    "# Data query - most active station in the past year\n",
    "    results = session.query(func.min(Measurement.tobs),\n",
    "                            func.max(Measurement.tobs),\n",
    "                            func.avg(Measurement.tobs))\\\n",
    "        .filter(Measurement.date >= start).all()\n",
    "\n",
    "    first_date = session.query(Measurement.date).order_by(\n",
    "        Measurement.date).first()\n",
    "    last_date = session.query(Measurement.date).order_by(\n",
    "        Measurement.date.desc()).first()\n"
   ]
  },
  {
   "cell_type": "code",
   "execution_count": null,
   "id": "668a244d",
   "metadata": {},
   "outputs": [],
   "source": [
    "session.close()"
   ]
  },
  {
   "cell_type": "code",
   "execution_count": null,
   "id": "e83310b3",
   "metadata": {},
   "outputs": [],
   "source": [
    "# Creat a date list \n",
    "date_list = pd.date_range(start=first_date[0], end=last_date[0])\n"
   ]
  },
  {
   "cell_type": "code",
   "execution_count": null,
   "id": "7e2636d9",
   "metadata": {},
   "outputs": [],
   "source": [
    "# dictionary - strt_data\n",
    "strt_data = []\n",
    "for tmin, tmax, tavg in results:\n",
    "        strt_data_dict = {\n",
    "            'Start Date': start,\n",
    "            'End Date': last_date[0]\n",
    "        }\n",
    "        strt_data_dict['T-MIN'] = tmin\n",
    "        strt_data_dict['T-MAX'] = tmax\n",
    "        strt_data_dict['T-AVG'] = tavg\n",
    "        strt_data.append(strt_data_dict)\n",
    "\n",
    "# Date input in API search\n",
    "    if start in date_list:\n",
    "        return jsonify(strt_data)\n",
    "      else:\n",
    "            return jsonify({\n",
    "                \"error\": f\"Date: {start} not found. Date must be between {first_date[0]} and {last_date[0]}\"\n",
    "            }), 404\n"
   ]
  },
  {
   "cell_type": "code",
   "execution_count": null,
   "id": "6b4f223d",
   "metadata": {},
   "outputs": [],
   "source": [
    "# Start and End Date route\n",
    "@app.route(\"/api/v1.0/start=<start>/end=<end>\")\n",
    "def period(start, end):\n"
   ]
  },
  {
   "cell_type": "code",
   "execution_count": null,
   "id": "1e9a1049",
   "metadata": {},
   "outputs": [],
   "source": [
    "  session = Session(engine)"
   ]
  },
  {
   "cell_type": "code",
   "execution_count": null,
   "id": "de5ae619",
   "metadata": {},
   "outputs": [],
   "source": [
    "# Most ctive station in the past year\n",
    "    results = session.query(func.min(Measurement.tobs),\n",
    "                            func.max(Measurement.tobs),\n",
    "                            func.avg(Measurement.tobs))\\\n",
    "        .filter(Measurement.date >= start)\\\n",
    "        .filter(Measurement.date <= end).all()\n",
    "\n",
    "\n",
    "    first_date = session.query(Measurement.date).order_by(\n",
    "        Measurement.date).first()\n",
    "    last_date = session.query(Measurement.date).order_by(\n",
    "        Measurement.date.desc()).first()\n"
   ]
  },
  {
   "cell_type": "code",
   "execution_count": null,
   "id": "20003040",
   "metadata": {},
   "outputs": [],
   "source": [
    "session.close()"
   ]
  },
  {
   "cell_type": "code",
   "execution_count": null,
   "id": "12167919",
   "metadata": {},
   "outputs": [],
   "source": [
    "#  dictionary - period_data\n",
    "date_list = pd.date_range(start=first_date[0], end=last_date[0])   \n"
   ]
  },
  {
   "cell_type": "code",
   "execution_count": null,
   "id": "a0e0faa5",
   "metadata": {},
   "outputs": [],
   "source": [
    "period_data = []\n",
    "\n",
    "    for tmin, tmax, tavg in results:\n",
    "        period_data_dict = {\n",
    "            'Start Date': start,\n",
    "            'End Date': end\n",
    "        }\n",
    "        period_data_dict['T-MIN'] = tmin\n",
    "        period_data_dict['T-MAX'] = tmax\n",
    "        period_data_dict['T-AVG'] = tavg\n",
    "        period_data.append(period_data_dict)\n",
    "    if start and end in date_list:\n",
    "            if start <= end:\n",
    "                return jsonify(period_data)\n",
    "            elif start > end:\n",
    "                return jsonify({\n",
    "                    \"error\": f'{start} is greater than {end}'\n",
    "                })\n",
    "        else:\n",
    "            return jsonify({\n",
    "                \"error\": f\"Date: {start} to {end} not found. Date must be between {first_date[0]} and {last_date[0]}\"\n",
    "            }), 404\n",
    "        \n"
   ]
  },
  {
   "cell_type": "code",
   "execution_count": null,
   "id": "e414605a",
   "metadata": {},
   "outputs": [],
   "source": [
    "# app.run statement\n",
    "if __name__ == \"__main__\":\n",
    "    app.run(debug=True)\n"
   ]
  },
  {
   "cell_type": "code",
   "execution_count": null,
   "id": "326f0fe7",
   "metadata": {},
   "outputs": [],
   "source": []
  }
 ],
 "metadata": {
  "kernelspec": {
   "display_name": "Python 3 (ipykernel)",
   "language": "python",
   "name": "python3"
  },
  "language_info": {
   "codemirror_mode": {
    "name": "ipython",
    "version": 3
   },
   "file_extension": ".py",
   "mimetype": "text/x-python",
   "name": "python",
   "nbconvert_exporter": "python",
   "pygments_lexer": "ipython3",
   "version": "3.9.12"
  }
 },
 "nbformat": 4,
 "nbformat_minor": 5
}
